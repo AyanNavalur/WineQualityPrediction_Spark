{
 "cells": [
  {
   "cell_type": "code",
   "execution_count": 1,
   "metadata": {},
   "outputs": [],
   "source": [
    "from pyspark.ml import Pipeline\n",
    "from pyspark.sql import SparkSession\n",
    "from pyspark.ml.classification import RandomForestClassifier\n",
    "from pyspark.ml.feature import IndexToString, StringIndexer, VectorIndexer, VectorAssembler\n",
    "from pyspark.ml.evaluation import MulticlassClassificationEvaluator"
   ]
  },
  {
   "cell_type": "code",
   "execution_count": 3,
   "metadata": {},
   "outputs": [
    {
     "name": "stdout",
     "output_type": "stream",
     "text": [
      "Apache Spark Version :3.3.1\n",
      "Apache Spark Version :3.3.1\n"
     ]
    }
   ],
   "source": [
    "spark = SparkSession.builder.master(\"local[1]\").appName(\"SparkByExamples.com\").getOrCreate()\n",
    "print('Apache Spark Version :'+spark.version)\n",
    "print('Apache Spark Version :'+spark.sparkContext.version)"
   ]
  },
  {
   "cell_type": "code",
   "execution_count": 71,
   "metadata": {},
   "outputs": [
    {
     "name": "stdout",
     "output_type": "stream",
     "text": [
      "[Row(fixed acidity=8.9, volatile acidity=0.22, citric acid=0.48, residual sugar=1.8, chlorides=0.077, free sulfur dioxide=29.0, total sulfur dioxide=60.0, density=0.9968, pH=3.39, sulphates=0.53, alcohol=9.4, quality=6), Row(fixed acidity=7.6, volatile acidity=0.39, citric acid=0.31, residual sugar=2.3, chlorides=0.082, free sulfur dioxide=23.0, total sulfur dioxide=71.0, density=0.9982, pH=3.52, sulphates=0.65, alcohol=9.7, quality=5), Row(fixed acidity=7.9, volatile acidity=0.43, citric acid=0.21, residual sugar=1.6, chlorides=0.106, free sulfur dioxide=10.0, total sulfur dioxide=37.0, density=0.9966, pH=3.17, sulphates=0.91, alcohol=9.5, quality=5), Row(fixed acidity=8.5, volatile acidity=0.49, citric acid=0.11, residual sugar=2.3, chlorides=0.084, free sulfur dioxide=9.0, total sulfur dioxide=67.0, density=0.9968, pH=3.17, sulphates=0.53, alcohol=9.4, quality=5), Row(fixed acidity=6.9, volatile acidity=0.4, citric acid=0.14, residual sugar=2.4, chlorides=0.085, free sulfur dioxide=21.0, total sulfur dioxide=40.0, density=0.9968, pH=3.43, sulphates=0.63, alcohol=9.7, quality=6)]\n"
     ]
    }
   ],
   "source": [
    "spark = SparkSession.builder.appName(\n",
    "        \"WineClassifier\").getOrCreate()\n",
    "train_data = spark.read.option(\n",
    "    \"delimiter\", \";\").option(\"header\", True).option(\"inferSchema\", True).csv(f'./data/TrainingDataset.csv')\n",
    "val_data = spark.read.option(\"delimiter\", \";\").option(\"header\", True).option(\"inferSchema\", True).csv(\n",
    "    f'./data/ValidationDataset.csv')\n",
    "\n",
    "data = train_data.union(val_data)\n",
    "print(data.head(5))"
   ]
  },
  {
   "cell_type": "code",
   "execution_count": 72,
   "metadata": {},
   "outputs": [],
   "source": [
    "label_indexer = StringIndexer().setInputCol(\"quality\").setOutputCol(\"label\").fit(data)"
   ]
  },
  {
   "cell_type": "code",
   "execution_count": 73,
   "metadata": {},
   "outputs": [],
   "source": [
    "vectorAssembler = VectorAssembler().setInputCols(data.columns[:-1]).setOutputCol(\"features\")"
   ]
  },
  {
   "cell_type": "code",
   "execution_count": 74,
   "metadata": {},
   "outputs": [],
   "source": [
    "# create pipeline\n",
    "pipeline = Pipeline().setStages([label_indexer,vectorAssembler])"
   ]
  },
  {
   "cell_type": "code",
   "execution_count": 75,
   "metadata": {},
   "outputs": [
    {
     "name": "stdout",
     "output_type": "stream",
     "text": [
      "+-------------+----------------+-----------+--------------+---------+-------------------+--------------------+-------+----+---------+-------+-------+\n",
      "|fixed acidity|volatile acidity|citric acid|residual sugar|chlorides|free sulfur dioxide|total sulfur dioxide|density|  pH|sulphates|alcohol|quality|\n",
      "+-------------+----------------+-----------+--------------+---------+-------------------+--------------------+-------+----+---------+-------+-------+\n",
      "|          8.9|            0.22|       0.48|           1.8|    0.077|               29.0|                60.0| 0.9968|3.39|     0.53|    9.4|      6|\n",
      "|          7.6|            0.39|       0.31|           2.3|    0.082|               23.0|                71.0| 0.9982|3.52|     0.65|    9.7|      5|\n",
      "|          7.9|            0.43|       0.21|           1.6|    0.106|               10.0|                37.0| 0.9966|3.17|     0.91|    9.5|      5|\n",
      "|          8.5|            0.49|       0.11|           2.3|    0.084|                9.0|                67.0| 0.9968|3.17|     0.53|    9.4|      5|\n",
      "|          6.9|             0.4|       0.14|           2.4|    0.085|               21.0|                40.0| 0.9968|3.43|     0.63|    9.7|      6|\n",
      "|          6.3|            0.39|       0.16|           1.4|     0.08|               11.0|                23.0| 0.9955|3.34|     0.56|    9.3|      5|\n",
      "|          7.6|            0.41|       0.24|           1.8|     0.08|                4.0|                11.0| 0.9962|3.28|     0.59|    9.5|      5|\n",
      "|          7.9|            0.43|       0.21|           1.6|    0.106|               10.0|                37.0| 0.9966|3.17|     0.91|    9.5|      5|\n",
      "|          7.1|            0.71|        0.0|           1.9|     0.08|               14.0|                35.0| 0.9972|3.47|     0.55|    9.4|      5|\n",
      "|          7.8|           0.645|        0.0|           2.0|    0.082|                8.0|                16.0| 0.9964|3.38|     0.59|    9.8|      6|\n",
      "|          6.7|           0.675|       0.07|           2.4|    0.089|               17.0|                82.0| 0.9958|3.35|     0.54|   10.1|      5|\n",
      "|          6.9|           0.685|        0.0|           2.5|    0.105|               22.0|                37.0| 0.9966|3.46|     0.57|   10.6|      6|\n",
      "|          8.3|           0.655|       0.12|           2.3|    0.083|               15.0|               113.0| 0.9966|3.17|     0.66|    9.8|      5|\n",
      "|          6.9|           0.605|       0.12|          10.7|    0.073|               40.0|                83.0| 0.9993|3.45|     0.52|    9.4|      6|\n",
      "|          5.2|            0.32|       0.25|           1.8|    0.103|               13.0|                50.0| 0.9957|3.38|     0.55|    9.2|      5|\n",
      "|          7.8|           0.645|        0.0|           5.5|    0.086|                5.0|                18.0| 0.9986| 3.4|     0.55|    9.6|      6|\n",
      "|          7.8|             0.6|       0.14|           2.4|    0.086|                3.0|                15.0| 0.9975|3.42|      0.6|   10.8|      6|\n",
      "|          8.1|            0.38|       0.28|           2.1|    0.066|               13.0|                30.0| 0.9968|3.23|     0.73|    9.7|      7|\n",
      "|          5.7|            1.13|       0.09|           1.5|    0.172|                7.0|                19.0|  0.994| 3.5|     0.48|    9.8|      4|\n",
      "|          7.3|            0.45|       0.36|           5.9|    0.074|               12.0|                87.0| 0.9978|3.33|     0.83|   10.5|      5|\n",
      "+-------------+----------------+-----------+--------------+---------+-------------------+--------------------+-------+----+---------+-------+-------+\n",
      "only showing top 20 rows\n",
      "\n"
     ]
    }
   ],
   "source": [
    "data.show()"
   ]
  },
  {
   "cell_type": "code",
   "execution_count": 81,
   "metadata": {},
   "outputs": [],
   "source": [
    "transformedData = pipeline.fit(data).transform(data).select(\"features\",\"label\")"
   ]
  },
  {
   "cell_type": "code",
   "execution_count": 82,
   "metadata": {},
   "outputs": [
    {
     "name": "stdout",
     "output_type": "stream",
     "text": [
      "+--------------------+-----+\n",
      "|            features|label|\n",
      "+--------------------+-----+\n",
      "|[8.9,0.22,0.48,1....|  1.0|\n",
      "|[7.6,0.39,0.31,2....|  0.0|\n",
      "|[7.9,0.43,0.21,1....|  0.0|\n",
      "|[8.5,0.49,0.11,2....|  0.0|\n",
      "|[6.9,0.4,0.14,2.4...|  1.0|\n",
      "|[6.3,0.39,0.16,1....|  0.0|\n",
      "|[7.6,0.41,0.24,1....|  0.0|\n",
      "|[7.9,0.43,0.21,1....|  0.0|\n",
      "|[7.1,0.71,0.0,1.9...|  0.0|\n",
      "|[7.8,0.645,0.0,2....|  1.0|\n",
      "|[6.7,0.675,0.07,2...|  0.0|\n",
      "|[6.9,0.685,0.0,2....|  1.0|\n",
      "|[8.3,0.655,0.12,2...|  0.0|\n",
      "|[6.9,0.605,0.12,1...|  1.0|\n",
      "|[5.2,0.32,0.25,1....|  0.0|\n",
      "|[7.8,0.645,0.0,5....|  1.0|\n",
      "|[7.8,0.6,0.14,2.4...|  1.0|\n",
      "|[8.1,0.38,0.28,2....|  2.0|\n",
      "|[5.7,1.13,0.09,1....|  3.0|\n",
      "|[7.3,0.45,0.36,5....|  0.0|\n",
      "+--------------------+-----+\n",
      "only showing top 20 rows\n",
      "\n"
     ]
    }
   ],
   "source": [
    "transformedData.show()"
   ]
  },
  {
   "cell_type": "code",
   "execution_count": 83,
   "metadata": {},
   "outputs": [],
   "source": [
    "(trainingData, testData) = transformedData.randomSplit([0.7, 0.3])"
   ]
  },
  {
   "cell_type": "code",
   "execution_count": 84,
   "metadata": {},
   "outputs": [
    {
     "name": "stdout",
     "output_type": "stream",
     "text": [
      "Training Data Count: 1038\n",
      "Test Data Count: 401\n"
     ]
    }
   ],
   "source": [
    "print(\"Training Data Count:\" ,trainingData.count())\n",
    "print(\"Test Data Count:\" ,testData.count())"
   ]
  },
  {
   "attachments": {},
   "cell_type": "markdown",
   "metadata": {},
   "source": [
    "Logistic Regression"
   ]
  },
  {
   "cell_type": "code",
   "execution_count": 85,
   "metadata": {},
   "outputs": [],
   "source": [
    "from pyspark.ml.classification import LogisticRegression\n",
    "\n",
    "lr = LogisticRegression(featuresCol = 'features', labelCol = 'label', maxIter=50)\n",
    "lrModel = lr.fit(trainingData)"
   ]
  },
  {
   "cell_type": "code",
   "execution_count": 88,
   "metadata": {},
   "outputs": [
    {
     "name": "stdout",
     "output_type": "stream",
     "text": [
      "+--------------------+-----+--------------------+--------------------+----------+\n",
      "|            features|label|       rawPrediction|         probability|prediction|\n",
      "+--------------------+-----+--------------------+--------------------+----------+\n",
      "|[5.0,0.4,0.5,4.3,...|  1.0|[1.96591096795310...|[0.01852847913855...|       2.0|\n",
      "|[5.0,0.74,0.0,1.2...|  1.0|[2.23088895678708...|[0.21072471863693...|       1.0|\n",
      "|[5.1,0.42,0.0,1.8...|  2.0|[2.66156733326718...|[0.03849518871239...|       2.0|\n",
      "|[5.1,0.51,0.18,2....|  2.0|[3.08874911309709...|[0.08639490121648...|       1.0|\n",
      "|[5.2,0.32,0.25,1....|  0.0|[5.16960665830137...|[0.74374409170772...|       0.0|\n",
      "|[5.2,0.34,0.0,1.8...|  1.0|[1.39738131997673...|[0.00655955375204...|       2.0|\n",
      "|[5.6,0.605,0.05,2...|  0.0|[1.40706079033213...|[0.07847586211984...|       1.0|\n",
      "|[5.7,1.13,0.09,1....|  3.0|[4.12259018219433...|[0.28495013198423...|       5.0|\n",
      "|[5.9,0.29,0.25,13...|  1.0|[4.76407002778121...|[0.32253910783428...|       1.0|\n",
      "|[5.9,0.61,0.08,2....|  1.0|[2.20478294738045...|[0.20536189490138...|       1.0|\n",
      "|[6.0,0.33,0.32,12...|  3.0|[3.98980715372720...|[0.14253698501693...|       2.0|\n",
      "|[6.0,0.42,0.19,2....|  1.0|[3.55221790183122...|[0.37514344883237...|       1.0|\n",
      "|[6.0,0.5,0.0,1.4,...|  0.0|[3.97373946429150...|[0.59938910166184...|       0.0|\n",
      "|[6.1,0.32,0.25,2....|  0.0|[3.03621648540671...|[0.17171589651301...|       1.0|\n",
      "|[6.1,0.56,0.0,2.2...|  1.0|[2.16477494106924...|[0.22116824773464...|       1.0|\n",
      "|[6.2,0.39,0.43,2....|  2.0|[2.01085906279001...|[0.12381581493205...|       1.0|\n",
      "|[6.2,0.51,0.14,1....|  1.0|[2.53619404670689...|[0.23161811948501...|       1.0|\n",
      "|[6.2,0.57,0.1,2.1...|  1.0|[2.07932613847940...|[0.21656085375827...|       1.0|\n",
      "|[6.2,0.65,0.06,1....|  0.0|[1.94139339595331...|[0.20837987288624...|       1.0|\n",
      "|[6.2,0.785,0.0,2....|  3.0|[2.77390552395552...|[0.50532710786781...|       0.0|\n",
      "+--------------------+-----+--------------------+--------------------+----------+\n",
      "only showing top 20 rows\n",
      "\n"
     ]
    }
   ],
   "source": [
    "predictions = lrModel.transform(testData)\n",
    "predictions.show()"
   ]
  },
  {
   "cell_type": "code",
   "execution_count": 89,
   "metadata": {},
   "outputs": [
    {
     "name": "stdout",
     "output_type": "stream",
     "text": [
      "MultiClassClassifaction: 0.5888513351173561\n"
     ]
    }
   ],
   "source": [
    "from pyspark.ml.evaluation import MulticlassClassificationEvaluator\n",
    "\n",
    "evaluator = MulticlassClassificationEvaluator()\n",
    "print('MultiClassClassifaction:', evaluator.evaluate(predictions))"
   ]
  },
  {
   "attachments": {},
   "cell_type": "markdown",
   "metadata": {},
   "source": [
    "Random Forest"
   ]
  },
  {
   "cell_type": "code",
   "execution_count": 90,
   "metadata": {},
   "outputs": [
    {
     "name": "stdout",
     "output_type": "stream",
     "text": [
      "+--------------------+-----+--------------------+--------------------+----------+\n",
      "|            features|label|       rawPrediction|         probability|prediction|\n",
      "+--------------------+-----+--------------------+--------------------+----------+\n",
      "|[5.0,0.4,0.5,4.3,...|  1.0|[92.0,243.0,298.0...|[0.13031161473087...|       2.0|\n",
      "|[5.0,0.74,0.0,1.2...|  1.0|[60.0,581.8,34.7,...|[0.08498583569405...|       1.0|\n",
      "|[5.1,0.42,0.0,1.8...|  2.0|[76.0,179.0,323.2...|[0.10764872521246...|       2.0|\n",
      "|[5.1,0.51,0.18,2....|  2.0|[78.0,133.0,381.6...|[0.11048158640226...|       2.0|\n",
      "|[5.2,0.32,0.25,1....|  0.0|[381.008063687724...|[0.53967147831122...|       0.0|\n",
      "|[5.2,0.34,0.0,1.8...|  1.0|[21.0,557.2,85.8,...|[0.02974504249291...|       1.0|\n",
      "|[5.6,0.605,0.05,2...|  0.0|[217.089668615984...|[0.30749244846456...|       1.0|\n",
      "|[5.7,1.13,0.09,1....|  3.0|[434.0,75.0,10.0,...|[0.61473087818696...|       0.0|\n",
      "|[5.9,0.29,0.25,13...|  1.0|[404.0,204.0,61.0...|[0.57223796033994...|       0.0|\n",
      "|[5.9,0.61,0.08,2....|  1.0|[87.9263448969331...|[0.12454156500982...|       1.0|\n",
      "|[6.0,0.33,0.32,12...|  3.0|[198.0,298.0,140....|[0.28045325779036...|       1.0|\n",
      "|[6.0,0.42,0.19,2....|  1.0|[165.326035853715...|[0.23417285531687...|       1.0|\n",
      "|[6.0,0.5,0.0,1.4,...|  0.0|[647.954545454545...|[0.91778264228689...|       0.0|\n",
      "|[6.1,0.32,0.25,2....|  0.0|[499.729813664596...|[0.70783259725863...|       0.0|\n",
      "|[6.1,0.56,0.0,2.2...|  1.0|[270.256410256410...|[0.38279944795525...|       0.0|\n",
      "|[6.2,0.39,0.43,2....|  2.0|[49.0,388.8265954...|[0.06940509915014...|       1.0|\n",
      "|[6.2,0.51,0.14,1....|  1.0|[166.935983575961...|[0.23645323452685...|       1.0|\n",
      "|[6.2,0.57,0.1,2.1...|  1.0|[152.184210526315...|[0.21555837185030...|       1.0|\n",
      "|[6.2,0.65,0.06,1....|  0.0|[348.923076923076...|[0.49422532142078...|       0.0|\n",
      "|[6.2,0.785,0.0,2....|  3.0|[301.686938385158...|[0.42731860961070...|       0.0|\n",
      "+--------------------+-----+--------------------+--------------------+----------+\n",
      "only showing top 20 rows\n",
      "\n"
     ]
    }
   ],
   "source": [
    "\n",
    "from pyspark.ml.classification import RandomForestClassifier\n",
    "\n",
    "rf = RandomForestClassifier(featuresCol = 'features', labelCol = 'label',maxDepth=17, numTrees=706)\n",
    "rfModel = rf.fit(trainingData)\n",
    "predictions = rfModel.transform(testData)\n",
    "predictions.show()"
   ]
  },
  {
   "cell_type": "code",
   "execution_count": 91,
   "metadata": {},
   "outputs": [
    {
     "name": "stdout",
     "output_type": "stream",
     "text": [
      "MultiClassClassifaction: 0.650294041016861\n"
     ]
    }
   ],
   "source": [
    "evaluator = MulticlassClassificationEvaluator()\n",
    "print('MultiClassClassifaction:', evaluator.evaluate(predictions))"
   ]
  },
  {
   "cell_type": "code",
   "execution_count": 106,
   "metadata": {},
   "outputs": [
    {
     "data": {
      "text/plain": [
       "'f1'"
      ]
     },
     "execution_count": 106,
     "metadata": {},
     "output_type": "execute_result"
    }
   ],
   "source": [
    "evaluator.getMetricName()"
   ]
  },
  {
   "cell_type": "code",
   "execution_count": 99,
   "metadata": {},
   "outputs": [],
   "source": [
    "from pyspark.ml.feature import IndexToString\n",
    "\n",
    "pred_to_predLabel = IndexToString(\n",
    "    inputCol=\"prediction\", outputCol=\"predictedQuality\", labels=label_indexer.labels)\n",
    "label_to_actualLabel = IndexToString(\n",
    "    inputCol=\"label\", outputCol=\"quality\", labels=label_indexer.labels)\n",
    "pipeline = Pipeline().setStages([pred_to_predLabel,label_to_actualLabel])\n",
    "result = pipeline.fit(predictions).transform(predictions)"
   ]
  },
  {
   "cell_type": "code",
   "execution_count": 102,
   "metadata": {},
   "outputs": [
    {
     "name": "stdout",
     "output_type": "stream",
     "text": [
      "+----------------+-------+\n",
      "|predictedQuality|quality|\n",
      "+----------------+-------+\n",
      "|               7|      6|\n",
      "|               6|      6|\n",
      "|               7|      7|\n",
      "|               7|      7|\n",
      "|               5|      5|\n",
      "|               6|      6|\n",
      "|               6|      5|\n",
      "|               5|      4|\n",
      "|               5|      6|\n",
      "|               6|      6|\n",
      "|               6|      4|\n",
      "|               6|      6|\n",
      "|               5|      5|\n",
      "|               5|      5|\n",
      "|               5|      6|\n",
      "|               6|      7|\n",
      "|               6|      6|\n",
      "|               6|      6|\n",
      "|               5|      5|\n",
      "|               5|      4|\n",
      "+----------------+-------+\n",
      "only showing top 20 rows\n",
      "\n"
     ]
    }
   ],
   "source": [
    "result.select('predictedQuality','quality').show()"
   ]
  },
  {
   "cell_type": "code",
   "execution_count": null,
   "metadata": {},
   "outputs": [],
   "source": [
    "# saving string indexer\n",
    "# stringIndexerPath = temp_path + \"/string-indexer\"\n",
    "# label_indexer.save(stringIndexerPath)\n",
    "# label_indexer_loaded = StringIndexer.load(stringIndexerPath)"
   ]
  }
 ],
 "metadata": {
  "kernelspec": {
   "display_name": "yo1",
   "language": "python",
   "name": "python3"
  },
  "language_info": {
   "codemirror_mode": {
    "name": "ipython",
    "version": 3
   },
   "file_extension": ".py",
   "mimetype": "text/x-python",
   "name": "python",
   "nbconvert_exporter": "python",
   "pygments_lexer": "ipython3",
   "version": "3.9.12"
  },
  "orig_nbformat": 4,
  "vscode": {
   "interpreter": {
    "hash": "2a444e92c75e3c639596f55d125a4fa617444de481e075ca5864d60af4c89cbf"
   }
  }
 },
 "nbformat": 4,
 "nbformat_minor": 2
}
